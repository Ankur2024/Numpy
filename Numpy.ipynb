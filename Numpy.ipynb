{
 "cells": [
  {
   "cell_type": "code",
   "execution_count": 1,
   "id": "6ae7e82d",
   "metadata": {},
   "outputs": [],
   "source": [
    "import numpy as np"
   ]
  },
  {
   "cell_type": "code",
   "execution_count": 4,
   "id": "82601949",
   "metadata": {},
   "outputs": [
    {
     "data": {
      "text/plain": [
       "array([1, 2])"
      ]
     },
     "execution_count": 4,
     "metadata": {},
     "output_type": "execute_result"
    }
   ],
   "source": [
    "np.random.randint((2,3))"
   ]
  },
  {
   "cell_type": "code",
   "execution_count": 14,
   "id": "2cdf40d7",
   "metadata": {},
   "outputs": [
    {
     "data": {
      "text/plain": [
       "array([1, 0])"
      ]
     },
     "execution_count": 14,
     "metadata": {},
     "output_type": "execute_result"
    }
   ],
   "source": [
    "np.random.seed(seed = 8)\n",
    "np.random.randint((2,3))"
   ]
  },
  {
   "cell_type": "markdown",
   "id": "acf72d68",
   "metadata": {},
   "source": [
    "![Alt text](https://www.pinterest.com/pin/376121006362388614/)\n"
   ]
  },
  {
   "cell_type": "markdown",
   "id": "db565aab",
   "metadata": {},
   "source": [
    "<img src = \"https://in.pinterest.com/pin/376121006362388614/\"/>\n"
   ]
  },
  {
   "cell_type": "markdown",
   "id": "0d8ff1d3",
   "metadata": {},
   "source": [
    "<img src = \"Pictures/panda.jpg\"/>"
   ]
  },
  {
   "cell_type": "code",
   "execution_count": 19,
   "id": "b7a32e7d",
   "metadata": {},
   "outputs": [],
   "source": [
    "from matplotlib.image import imread"
   ]
  },
  {
   "cell_type": "code",
   "execution_count": 24,
   "id": "5a6669a4",
   "metadata": {
    "scrolled": true
   },
   "outputs": [
    {
     "ename": "SyntaxError",
     "evalue": "(unicode error) 'unicodeescape' codec can't decode bytes in position 34-35: malformed \\N character escape (4063968260.py, line 1)",
     "output_type": "error",
     "traceback": [
      "\u001b[1;36m  Cell \u001b[1;32mIn[24], line 1\u001b[1;36m\u001b[0m\n\u001b[1;33m    panda = imread(\"Users\\Ankur\\Machine Learning Notes\\Numpy/panda.jpg\")\u001b[0m\n\u001b[1;37m                                                                       ^\u001b[0m\n\u001b[1;31mSyntaxError\u001b[0m\u001b[1;31m:\u001b[0m (unicode error) 'unicodeescape' codec can't decode bytes in position 34-35: malformed \\N character escape\n"
     ]
    }
   ],
   "source": [
    "panda = imread(\"Users\\Ankur\\Machine Learning Notes\\Numpy/panda.jpg\")"
   ]
  },
  {
   "cell_type": "code",
   "execution_count": null,
   "id": "6e4aa725",
   "metadata": {},
   "outputs": [],
   "source": []
  }
 ],
 "metadata": {
  "kernelspec": {
   "display_name": "Python 3 (ipykernel)",
   "language": "python",
   "name": "python3"
  },
  "language_info": {
   "codemirror_mode": {
    "name": "ipython",
    "version": 3
   },
   "file_extension": ".py",
   "mimetype": "text/x-python",
   "name": "python",
   "nbconvert_exporter": "python",
   "pygments_lexer": "ipython3",
   "version": "3.11.5"
  }
 },
 "nbformat": 4,
 "nbformat_minor": 5
}
